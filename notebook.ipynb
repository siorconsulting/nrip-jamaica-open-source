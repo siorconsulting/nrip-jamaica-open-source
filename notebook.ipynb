{
 "cells": [
  {
   "cell_type": "code",
   "execution_count": 1,
   "metadata": {},
   "outputs": [],
   "source": [
    "from nrip_toolbox import nrip_toolbox"
   ]
  },
  {
   "cell_type": "code",
   "execution_count": 2,
   "metadata": {},
   "outputs": [],
   "source": [
    "tools = nrip_toolbox()"
   ]
  },
  {
   "cell_type": "code",
   "execution_count": 3,
   "metadata": {},
   "outputs": [
    {
     "ename": "AttributeError",
     "evalue": "'NoneType' object has no attribute 'strip'",
     "output_type": "error",
     "traceback": [
      "\u001b[0;31m---------------------------------------------------------------------------\u001b[0m",
      "\u001b[0;31mAttributeError\u001b[0m                            Traceback (most recent call last)",
      "\u001b[1;32m/Volumes/GoogleDrive/My Drive/sior/repos/nrip-jamaica-open-source/notebook.ipynb Cell 3'\u001b[0m in \u001b[0;36m<module>\u001b[0;34m\u001b[0m\n\u001b[0;32m----> <a href='vscode-notebook-cell:/Volumes/GoogleDrive/My%20Drive/sior/repos/nrip-jamaica-open-source/notebook.ipynb#ch0000004?line=0'>1</a>\u001b[0m tools\u001b[39m.\u001b[39;49minundation_extents_between(input_raster\u001b[39m=\u001b[39;49m\u001b[39m'\u001b[39;49m\u001b[39m/Users/marron31/Downloads/srtm_setnull_30\u001b[39;49m\u001b[39m'\u001b[39;49m,\n\u001b[1;32m      <a href='vscode-notebook-cell:/Volumes/GoogleDrive/My%20Drive/sior/repos/nrip-jamaica-open-source/notebook.ipynb#ch0000004?line=1'>2</a>\u001b[0m                                 low_threshold\u001b[39m=\u001b[39;49m\u001b[39m0\u001b[39;49m, high_threshold\u001b[39m=\u001b[39;49m\u001b[39m30\u001b[39;49m)\n",
      "File \u001b[0;32m/Volumes/GoogleDrive/My Drive/sior/repos/nrip-jamaica-open-source/nrip_toolbox.py:94\u001b[0m, in \u001b[0;36mnrip_toolbox.inundation_extents_between\u001b[0;34m(self, input_raster, low_threshold, high_threshold, output_name, output_raster_flag, output_polygons_flag, value)\u001b[0m\n\u001b[1;32m     <a href='file:///Volumes/GoogleDrive/My%20Drive/sior/repos/nrip-jamaica-open-source/nrip_toolbox.py?line=89'>90</a>\u001b[0m output_polygons_name \u001b[39m=\u001b[39m \u001b[39mf\u001b[39m\u001b[39m'\u001b[39m\u001b[39m{\u001b[39;00moutput_name\u001b[39m}\u001b[39;00m\u001b[39m.shp\u001b[39m\u001b[39m'\u001b[39m \n\u001b[1;32m     <a href='file:///Volumes/GoogleDrive/My%20Drive/sior/repos/nrip-jamaica-open-source/nrip_toolbox.py?line=91'>92</a>\u001b[0m \u001b[39mself\u001b[39m\u001b[39m.\u001b[39mwbt\u001b[39m.\u001b[39mwork_dir \u001b[39m=\u001b[39m \u001b[39mself\u001b[39m\u001b[39m.\u001b[39mworking_dir\n\u001b[0;32m---> <a href='file:///Volumes/GoogleDrive/My%20Drive/sior/repos/nrip-jamaica-open-source/nrip_toolbox.py?line=93'>94</a>\u001b[0m \u001b[39mself\u001b[39;49m\u001b[39m.\u001b[39;49mwbt\u001b[39m.\u001b[39;49mconditional_evaluation(i\u001b[39m=\u001b[39;49minput_raster, \u001b[39m# string raster input from argugment of function\u001b[39;49;00m\n\u001b[1;32m     <a href='file:///Volumes/GoogleDrive/My%20Drive/sior/repos/nrip-jamaica-open-source/nrip_toolbox.py?line=94'>95</a>\u001b[0m                         output\u001b[39m=\u001b[39;49moutput_raster_name, \u001b[39m# assigning temporary raster file string as output raster\u001b[39;49;00m\n\u001b[1;32m     <a href='file:///Volumes/GoogleDrive/My%20Drive/sior/repos/nrip-jamaica-open-source/nrip_toolbox.py?line=95'>96</a>\u001b[0m                         statement\u001b[39m=\u001b[39;49m\u001b[39mf\u001b[39;49m\u001b[39m\"\u001b[39;49m\u001b[39m(value > \u001b[39;49m\u001b[39m{\u001b[39;49;00mlow_threshold\u001b[39m}\u001b[39;49;00m\u001b[39m) && (value <= \u001b[39;49m\u001b[39m{\u001b[39;49;00mhigh_threshold\u001b[39m}\u001b[39;49;00m\u001b[39m)\u001b[39;49m\u001b[39m\"\u001b[39;49m, \u001b[39m# conditional Rust statement\u001b[39;49;00m\n\u001b[1;32m     <a href='file:///Volumes/GoogleDrive/My%20Drive/sior/repos/nrip-jamaica-open-source/nrip_toolbox.py?line=96'>97</a>\u001b[0m                         true \u001b[39m=\u001b[39;49m value, \u001b[39m# assigned value of gird cell if condition is met\u001b[39;49;00m\n\u001b[1;32m     <a href='file:///Volumes/GoogleDrive/My%20Drive/sior/repos/nrip-jamaica-open-source/nrip_toolbox.py?line=97'>98</a>\u001b[0m                         false \u001b[39m=\u001b[39;49m \u001b[39m'\u001b[39;49m\u001b[39mnull\u001b[39;49m\u001b[39m'\u001b[39;49m) \u001b[39m# assigned value of grid cell if condition is not met\u001b[39;00m\n\u001b[1;32m    <a href='file:///Volumes/GoogleDrive/My%20Drive/sior/repos/nrip-jamaica-open-source/nrip_toolbox.py?line=99'>100</a>\u001b[0m \u001b[39mself\u001b[39m\u001b[39m.\u001b[39mwbt\u001b[39m.\u001b[39mwork_dir \u001b[39m=\u001b[39m \u001b[39mself\u001b[39m\u001b[39m.\u001b[39mworking_dir\n\u001b[1;32m    <a href='file:///Volumes/GoogleDrive/My%20Drive/sior/repos/nrip-jamaica-open-source/nrip_toolbox.py?line=101'>102</a>\u001b[0m \u001b[39mif\u001b[39;00m output_polygons_flag:\n",
      "File \u001b[0;32m~/miniconda3/envs/whitebox/lib/python3.8/site-packages/whitebox/whitebox_tools.py:8481\u001b[0m, in \u001b[0;36mWhiteboxTools.conditional_evaluation\u001b[0;34m(self, i, output, statement, true, false, callback)\u001b[0m\n\u001b[1;32m   <a href='file:///~/miniconda3/envs/whitebox/lib/python3.8/site-packages/whitebox/whitebox_tools.py?line=8478'>8479</a>\u001b[0m \u001b[39mif\u001b[39;00m false \u001b[39mis\u001b[39;00m \u001b[39mnot\u001b[39;00m \u001b[39mNone\u001b[39;00m: args\u001b[39m.\u001b[39mappend(\u001b[39m\"\u001b[39m\u001b[39m--false=\u001b[39m\u001b[39m'\u001b[39m\u001b[39m{}\u001b[39;00m\u001b[39m'\u001b[39m\u001b[39m\"\u001b[39m\u001b[39m.\u001b[39mformat(false))\n\u001b[1;32m   <a href='file:///~/miniconda3/envs/whitebox/lib/python3.8/site-packages/whitebox/whitebox_tools.py?line=8479'>8480</a>\u001b[0m args\u001b[39m.\u001b[39mappend(\u001b[39m\"\u001b[39m\u001b[39m--output=\u001b[39m\u001b[39m'\u001b[39m\u001b[39m{}\u001b[39;00m\u001b[39m'\u001b[39m\u001b[39m\"\u001b[39m\u001b[39m.\u001b[39mformat(output))\n\u001b[0;32m-> <a href='file:///~/miniconda3/envs/whitebox/lib/python3.8/site-packages/whitebox/whitebox_tools.py?line=8480'>8481</a>\u001b[0m \u001b[39mreturn\u001b[39;00m \u001b[39mself\u001b[39;49m\u001b[39m.\u001b[39;49mrun_tool(\u001b[39m'\u001b[39;49m\u001b[39mconditional_evaluation\u001b[39;49m\u001b[39m'\u001b[39;49m, args, callback)\n",
      "File \u001b[0;32m~/miniconda3/envs/whitebox/lib/python3.8/site-packages/whitebox/whitebox_tools.py:341\u001b[0m, in \u001b[0;36mWhiteboxTools.run_tool\u001b[0;34m(self, tool_name, args, callback)\u001b[0m\n\u001b[1;32m    <a href='file:///~/miniconda3/envs/whitebox/lib/python3.8/site-packages/whitebox/whitebox_tools.py?line=337'>338</a>\u001b[0m args2\u001b[39m.\u001b[39mappend(\u001b[39m\"\u001b[39m\u001b[39m.\u001b[39m\u001b[39m\"\u001b[39m \u001b[39m+\u001b[39m path\u001b[39m.\u001b[39msep \u001b[39m+\u001b[39m \u001b[39mself\u001b[39m\u001b[39m.\u001b[39mexe_name)\n\u001b[1;32m    <a href='file:///~/miniconda3/envs/whitebox/lib/python3.8/site-packages/whitebox/whitebox_tools.py?line=338'>339</a>\u001b[0m args2\u001b[39m.\u001b[39mappend(\u001b[39m\"\u001b[39m\u001b[39m--run=\u001b[39m\u001b[39m\\\"\u001b[39;00m\u001b[39m{}\u001b[39;00m\u001b[39m\\\"\u001b[39;00m\u001b[39m\"\u001b[39m\u001b[39m.\u001b[39mformat(to_camelcase(tool_name)))\n\u001b[0;32m--> <a href='file:///~/miniconda3/envs/whitebox/lib/python3.8/site-packages/whitebox/whitebox_tools.py?line=340'>341</a>\u001b[0m \u001b[39mif\u001b[39;00m \u001b[39mself\u001b[39;49m\u001b[39m.\u001b[39;49mwork_dir\u001b[39m.\u001b[39;49mstrip() \u001b[39m!=\u001b[39m \u001b[39m\"\u001b[39m\u001b[39m\"\u001b[39m:\n\u001b[1;32m    <a href='file:///~/miniconda3/envs/whitebox/lib/python3.8/site-packages/whitebox/whitebox_tools.py?line=341'>342</a>\u001b[0m     args2\u001b[39m.\u001b[39mappend(\u001b[39m\"\u001b[39m\u001b[39m--wd=\u001b[39m\u001b[39m\\\"\u001b[39;00m\u001b[39m{}\u001b[39;00m\u001b[39m\\\"\u001b[39;00m\u001b[39m\"\u001b[39m\u001b[39m.\u001b[39mformat(\u001b[39mself\u001b[39m\u001b[39m.\u001b[39mwork_dir))\n\u001b[1;32m    <a href='file:///~/miniconda3/envs/whitebox/lib/python3.8/site-packages/whitebox/whitebox_tools.py?line=343'>344</a>\u001b[0m \u001b[39mfor\u001b[39;00m arg \u001b[39min\u001b[39;00m args:\n",
      "\u001b[0;31mAttributeError\u001b[0m: 'NoneType' object has no attribute 'strip'"
     ]
    }
   ],
   "source": [
    "tools.inundation_extents_between(input_raster='/Users/marron31/Downloads/srtm_setnull_30',\n",
    "                                low_threshold=0, \n",
    "                                high_threshold=30)"
   ]
  },
  {
   "cell_type": "code",
   "execution_count": null,
   "metadata": {},
   "outputs": [],
   "source": []
  }
 ],
 "metadata": {
  "interpreter": {
   "hash": "aee8b7b246df8f9039afb4144a1f6fd8d2ca17a180786b69acc140d282b71a49"
  },
  "kernelspec": {
   "display_name": "Python 3.9.10 64-bit",
   "language": "python",
   "name": "python3"
  },
  "language_info": {
   "codemirror_mode": {
    "name": "ipython",
    "version": 3
   },
   "file_extension": ".py",
   "mimetype": "text/x-python",
   "name": "python",
   "nbconvert_exporter": "python",
   "pygments_lexer": "ipython3",
   "version": "3.8.12"
  },
  "orig_nbformat": 4
 },
 "nbformat": 4,
 "nbformat_minor": 2
}
